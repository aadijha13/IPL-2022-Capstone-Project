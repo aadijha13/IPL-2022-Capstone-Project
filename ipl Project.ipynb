{
 "cells": [
  {
   "cell_type": "markdown",
   "id": "d99dc4e9-d48e-41ca-a4a5-e74a30ba7382",
   "metadata": {},
   "source": [
    "**IPL 2022 Capstone Project**\n",
    "The Indian Premier League (IPL) is a professional T20 cricket league in India, featuring franchises representing cities. This project explores IPL 2022 match-level data to derive meaningful insights and understand match outcomes, player performances, and team dynamics.<br>\n",
    "\n",
    "These are some of the important columns that we'll focus on for meaningful insights in this project.<br>\n",
    "\n",
    "column names: Variable Type<br>\n",
    "\n",
    "date : string<br>\n",
    "venue : string<br>\n",
    "stage : string<br>\n",
    "team1 : string<br>\n",
    "team2 : string<br>\n",
    "toss_winner : string<br>\n",
    "toss_decision : string<br>\n",
    "first_ings_score : integer<br>\n",
    "second_ings_score : integer<br>\n",
    "match_winner : string<br>\n",
    "won_by : string<br>\n",
    "margin : integer<br>\n",
    "player_of_the_match : string<br>\n",
    "top_scorer : string<br>\n",
    "highscore : integer<br>\n",
    "best_bowling : string<br>\n",
    "best_bowling_fgure : string<br>\n",
    "gure : string<br>"
   ]
  },
  {
   "cell_type": "markdown",
   "id": "88deda84-6eef-4bab-9c9a-cf1fe9fff912",
   "metadata": {},
   "source": [
    "**Loading the Libraries and Dataset**"
   ]
  },
  {
   "cell_type": "code",
   "execution_count": 14,
   "id": "3270653c-42f8-4220-9f3c-b6b009c82a6e",
   "metadata": {},
   "outputs": [],
   "source": [
    "import numpy as np\n",
    "import pandas as pd\n",
    "import matplotlib.pyplot as plt\n",
    "import seaborn as sns\n",
    "import warnings \n",
    "warnings.filterwarnings('ignore')\n"
   ]
  },
  {
   "cell_type": "code",
   "execution_count": 16,
   "id": "a6f73fac-d48e-4b35-80c2-daf8fec56830",
   "metadata": {},
   "outputs": [
    {
     "data": {
      "text/html": [
       "<div>\n",
       "<style scoped>\n",
       "    .dataframe tbody tr th:only-of-type {\n",
       "        vertical-align: middle;\n",
       "    }\n",
       "\n",
       "    .dataframe tbody tr th {\n",
       "        vertical-align: top;\n",
       "    }\n",
       "\n",
       "    .dataframe thead th {\n",
       "        text-align: right;\n",
       "    }\n",
       "</style>\n",
       "<table border=\"1\" class=\"dataframe\">\n",
       "  <thead>\n",
       "    <tr style=\"text-align: right;\">\n",
       "      <th></th>\n",
       "      <th>match_id</th>\n",
       "      <th>date</th>\n",
       "      <th>venue</th>\n",
       "      <th>team1</th>\n",
       "      <th>team2</th>\n",
       "      <th>stage</th>\n",
       "      <th>toss_winner</th>\n",
       "      <th>toss_decision</th>\n",
       "      <th>first_ings_score</th>\n",
       "      <th>first_ings_wkts</th>\n",
       "      <th>second_ings_score</th>\n",
       "      <th>second_ings_wkts</th>\n",
       "      <th>match_winner</th>\n",
       "      <th>won_by</th>\n",
       "      <th>margin</th>\n",
       "      <th>player_of_the_match</th>\n",
       "      <th>top_scorer</th>\n",
       "      <th>highscore</th>\n",
       "      <th>best_bowling</th>\n",
       "      <th>best_bowling_figure</th>\n",
       "    </tr>\n",
       "  </thead>\n",
       "  <tbody>\n",
       "    <tr>\n",
       "      <th>0</th>\n",
       "      <td>1</td>\n",
       "      <td>March 26,2022</td>\n",
       "      <td>Wankhede Stadium, Mumbai</td>\n",
       "      <td>Chennai</td>\n",
       "      <td>Kolkata</td>\n",
       "      <td>Group</td>\n",
       "      <td>Kolkata</td>\n",
       "      <td>Field</td>\n",
       "      <td>131</td>\n",
       "      <td>5</td>\n",
       "      <td>133</td>\n",
       "      <td>4</td>\n",
       "      <td>Kolkata</td>\n",
       "      <td>Wickets</td>\n",
       "      <td>6</td>\n",
       "      <td>Umesh Yadav</td>\n",
       "      <td>MS Dhoni</td>\n",
       "      <td>50</td>\n",
       "      <td>Dwayne Bravo</td>\n",
       "      <td>3--20</td>\n",
       "    </tr>\n",
       "    <tr>\n",
       "      <th>1</th>\n",
       "      <td>2</td>\n",
       "      <td>March 27,2022</td>\n",
       "      <td>Brabourne Stadium, Mumbai</td>\n",
       "      <td>Delhi</td>\n",
       "      <td>Mumbai</td>\n",
       "      <td>Group</td>\n",
       "      <td>Delhi</td>\n",
       "      <td>Field</td>\n",
       "      <td>177</td>\n",
       "      <td>5</td>\n",
       "      <td>179</td>\n",
       "      <td>6</td>\n",
       "      <td>Delhi</td>\n",
       "      <td>Wickets</td>\n",
       "      <td>4</td>\n",
       "      <td>Kuldeep Yadav</td>\n",
       "      <td>Ishan Kishan</td>\n",
       "      <td>81</td>\n",
       "      <td>Kuldeep Yadav</td>\n",
       "      <td>3--18</td>\n",
       "    </tr>\n",
       "    <tr>\n",
       "      <th>2</th>\n",
       "      <td>3</td>\n",
       "      <td>March 27,2022</td>\n",
       "      <td>Dr DY Patil Sports Academy, Mumbai</td>\n",
       "      <td>Banglore</td>\n",
       "      <td>Punjab</td>\n",
       "      <td>Group</td>\n",
       "      <td>Punjab</td>\n",
       "      <td>Field</td>\n",
       "      <td>205</td>\n",
       "      <td>2</td>\n",
       "      <td>208</td>\n",
       "      <td>5</td>\n",
       "      <td>Punjab</td>\n",
       "      <td>Wickets</td>\n",
       "      <td>5</td>\n",
       "      <td>Odean Smith</td>\n",
       "      <td>Faf du Plessis</td>\n",
       "      <td>88</td>\n",
       "      <td>Mohammed Siraj</td>\n",
       "      <td>2--59</td>\n",
       "    </tr>\n",
       "    <tr>\n",
       "      <th>3</th>\n",
       "      <td>4</td>\n",
       "      <td>March 28,2022</td>\n",
       "      <td>Wankhede Stadium, Mumbai</td>\n",
       "      <td>Gujarat</td>\n",
       "      <td>Lucknow</td>\n",
       "      <td>Group</td>\n",
       "      <td>Gujarat</td>\n",
       "      <td>Field</td>\n",
       "      <td>158</td>\n",
       "      <td>6</td>\n",
       "      <td>161</td>\n",
       "      <td>5</td>\n",
       "      <td>Gujarat</td>\n",
       "      <td>Wickets</td>\n",
       "      <td>5</td>\n",
       "      <td>Mohammed Shami</td>\n",
       "      <td>Deepak Hooda</td>\n",
       "      <td>55</td>\n",
       "      <td>Mohammed Shami</td>\n",
       "      <td>3--25</td>\n",
       "    </tr>\n",
       "    <tr>\n",
       "      <th>4</th>\n",
       "      <td>5</td>\n",
       "      <td>March 29,2022</td>\n",
       "      <td>Maharashtra Cricket Association Stadium,Pune</td>\n",
       "      <td>Hyderabad</td>\n",
       "      <td>Rajasthan</td>\n",
       "      <td>Group</td>\n",
       "      <td>Hyderabad</td>\n",
       "      <td>Field</td>\n",
       "      <td>210</td>\n",
       "      <td>6</td>\n",
       "      <td>149</td>\n",
       "      <td>7</td>\n",
       "      <td>Rajasthan</td>\n",
       "      <td>Runs</td>\n",
       "      <td>61</td>\n",
       "      <td>Sanju Samson</td>\n",
       "      <td>Aiden Markram</td>\n",
       "      <td>57</td>\n",
       "      <td>Yuzvendra Chahal</td>\n",
       "      <td>3--22</td>\n",
       "    </tr>\n",
       "    <tr>\n",
       "      <th>...</th>\n",
       "      <td>...</td>\n",
       "      <td>...</td>\n",
       "      <td>...</td>\n",
       "      <td>...</td>\n",
       "      <td>...</td>\n",
       "      <td>...</td>\n",
       "      <td>...</td>\n",
       "      <td>...</td>\n",
       "      <td>...</td>\n",
       "      <td>...</td>\n",
       "      <td>...</td>\n",
       "      <td>...</td>\n",
       "      <td>...</td>\n",
       "      <td>...</td>\n",
       "      <td>...</td>\n",
       "      <td>...</td>\n",
       "      <td>...</td>\n",
       "      <td>...</td>\n",
       "      <td>...</td>\n",
       "      <td>...</td>\n",
       "    </tr>\n",
       "    <tr>\n",
       "      <th>69</th>\n",
       "      <td>70</td>\n",
       "      <td>May 22,2022</td>\n",
       "      <td>Wankhede Stadium, Mumbai</td>\n",
       "      <td>Hyderabad</td>\n",
       "      <td>Punjab</td>\n",
       "      <td>Group</td>\n",
       "      <td>Hyderabad</td>\n",
       "      <td>Bat</td>\n",
       "      <td>157</td>\n",
       "      <td>8</td>\n",
       "      <td>160</td>\n",
       "      <td>5</td>\n",
       "      <td>Punjab</td>\n",
       "      <td>Wickets</td>\n",
       "      <td>5</td>\n",
       "      <td>Harpreet Brar</td>\n",
       "      <td>Liam Livingstone</td>\n",
       "      <td>49</td>\n",
       "      <td>Harpreet Brar</td>\n",
       "      <td>3--26</td>\n",
       "    </tr>\n",
       "    <tr>\n",
       "      <th>70</th>\n",
       "      <td>71</td>\n",
       "      <td>May 24,2022</td>\n",
       "      <td>Eden Gardens, Kolkata</td>\n",
       "      <td>Gujarat</td>\n",
       "      <td>Rajasthan</td>\n",
       "      <td>Playoff</td>\n",
       "      <td>Gujarat</td>\n",
       "      <td>Field</td>\n",
       "      <td>188</td>\n",
       "      <td>6</td>\n",
       "      <td>191</td>\n",
       "      <td>3</td>\n",
       "      <td>Gujarat</td>\n",
       "      <td>Wickets</td>\n",
       "      <td>7</td>\n",
       "      <td>David Miller</td>\n",
       "      <td>Jos Buttler</td>\n",
       "      <td>89</td>\n",
       "      <td>Hardik Pandya</td>\n",
       "      <td>1--14</td>\n",
       "    </tr>\n",
       "    <tr>\n",
       "      <th>71</th>\n",
       "      <td>72</td>\n",
       "      <td>May 25,2022</td>\n",
       "      <td>Eden Gardens, Kolkata</td>\n",
       "      <td>Banglore</td>\n",
       "      <td>Lucknow</td>\n",
       "      <td>Playoff</td>\n",
       "      <td>Lucknow</td>\n",
       "      <td>Field</td>\n",
       "      <td>207</td>\n",
       "      <td>4</td>\n",
       "      <td>193</td>\n",
       "      <td>6</td>\n",
       "      <td>Banglore</td>\n",
       "      <td>Runs</td>\n",
       "      <td>14</td>\n",
       "      <td>Rajat Patidar</td>\n",
       "      <td>Rajat Patidar</td>\n",
       "      <td>112</td>\n",
       "      <td>Josh Hazlewood</td>\n",
       "      <td>3--43</td>\n",
       "    </tr>\n",
       "    <tr>\n",
       "      <th>72</th>\n",
       "      <td>73</td>\n",
       "      <td>May 27,2022</td>\n",
       "      <td>Narendra Modi Stadium, Ahmedabad</td>\n",
       "      <td>Banglore</td>\n",
       "      <td>Rajasthan</td>\n",
       "      <td>Playoff</td>\n",
       "      <td>Rajasthan</td>\n",
       "      <td>Field</td>\n",
       "      <td>157</td>\n",
       "      <td>8</td>\n",
       "      <td>161</td>\n",
       "      <td>3</td>\n",
       "      <td>Rajasthan</td>\n",
       "      <td>Wickets</td>\n",
       "      <td>7</td>\n",
       "      <td>Jos Buttler</td>\n",
       "      <td>Jos Buttler</td>\n",
       "      <td>106</td>\n",
       "      <td>Prasidh Krishna</td>\n",
       "      <td>3--22</td>\n",
       "    </tr>\n",
       "    <tr>\n",
       "      <th>73</th>\n",
       "      <td>74</td>\n",
       "      <td>May 29,2022</td>\n",
       "      <td>Narendra Modi Stadium, Ahmedabad</td>\n",
       "      <td>Gujarat</td>\n",
       "      <td>Rajasthan</td>\n",
       "      <td>Final</td>\n",
       "      <td>Rajasthan</td>\n",
       "      <td>Bat</td>\n",
       "      <td>130</td>\n",
       "      <td>9</td>\n",
       "      <td>133</td>\n",
       "      <td>3</td>\n",
       "      <td>Gujarat</td>\n",
       "      <td>Wickets</td>\n",
       "      <td>7</td>\n",
       "      <td>Hardik Pandya</td>\n",
       "      <td>Shubman Gill</td>\n",
       "      <td>45</td>\n",
       "      <td>Hardik Pandya</td>\n",
       "      <td>3--17</td>\n",
       "    </tr>\n",
       "  </tbody>\n",
       "</table>\n",
       "<p>74 rows × 20 columns</p>\n",
       "</div>"
      ],
      "text/plain": [
       "    match_id           date                                         venue  \\\n",
       "0          1  March 26,2022                      Wankhede Stadium, Mumbai   \n",
       "1          2  March 27,2022                     Brabourne Stadium, Mumbai   \n",
       "2          3  March 27,2022            Dr DY Patil Sports Academy, Mumbai   \n",
       "3          4  March 28,2022                      Wankhede Stadium, Mumbai   \n",
       "4          5  March 29,2022  Maharashtra Cricket Association Stadium,Pune   \n",
       "..       ...            ...                                           ...   \n",
       "69        70    May 22,2022                      Wankhede Stadium, Mumbai   \n",
       "70        71    May 24,2022                         Eden Gardens, Kolkata   \n",
       "71        72    May 25,2022                         Eden Gardens, Kolkata   \n",
       "72        73    May 27,2022              Narendra Modi Stadium, Ahmedabad   \n",
       "73        74    May 29,2022              Narendra Modi Stadium, Ahmedabad   \n",
       "\n",
       "        team1      team2    stage toss_winner toss_decision  first_ings_score  \\\n",
       "0     Chennai    Kolkata    Group     Kolkata         Field               131   \n",
       "1       Delhi     Mumbai    Group       Delhi         Field               177   \n",
       "2    Banglore     Punjab    Group      Punjab         Field               205   \n",
       "3     Gujarat    Lucknow    Group     Gujarat         Field               158   \n",
       "4   Hyderabad  Rajasthan    Group   Hyderabad         Field               210   \n",
       "..        ...        ...      ...         ...           ...               ...   \n",
       "69  Hyderabad     Punjab    Group   Hyderabad           Bat               157   \n",
       "70    Gujarat  Rajasthan  Playoff     Gujarat         Field               188   \n",
       "71   Banglore    Lucknow  Playoff     Lucknow         Field               207   \n",
       "72   Banglore  Rajasthan  Playoff   Rajasthan         Field               157   \n",
       "73    Gujarat  Rajasthan    Final   Rajasthan           Bat               130   \n",
       "\n",
       "    first_ings_wkts  second_ings_score  second_ings_wkts match_winner  \\\n",
       "0                 5                133                 4      Kolkata   \n",
       "1                 5                179                 6        Delhi   \n",
       "2                 2                208                 5       Punjab   \n",
       "3                 6                161                 5      Gujarat   \n",
       "4                 6                149                 7    Rajasthan   \n",
       "..              ...                ...               ...          ...   \n",
       "69                8                160                 5       Punjab   \n",
       "70                6                191                 3      Gujarat   \n",
       "71                4                193                 6     Banglore   \n",
       "72                8                161                 3    Rajasthan   \n",
       "73                9                133                 3      Gujarat   \n",
       "\n",
       "     won_by  margin player_of_the_match        top_scorer  highscore  \\\n",
       "0   Wickets       6         Umesh Yadav          MS Dhoni         50   \n",
       "1   Wickets       4       Kuldeep Yadav      Ishan Kishan         81   \n",
       "2   Wickets       5         Odean Smith    Faf du Plessis         88   \n",
       "3   Wickets       5      Mohammed Shami      Deepak Hooda         55   \n",
       "4      Runs      61        Sanju Samson     Aiden Markram         57   \n",
       "..      ...     ...                 ...               ...        ...   \n",
       "69  Wickets       5       Harpreet Brar  Liam Livingstone         49   \n",
       "70  Wickets       7        David Miller       Jos Buttler         89   \n",
       "71     Runs      14       Rajat Patidar     Rajat Patidar        112   \n",
       "72  Wickets       7         Jos Buttler       Jos Buttler        106   \n",
       "73  Wickets       7       Hardik Pandya      Shubman Gill         45   \n",
       "\n",
       "        best_bowling best_bowling_figure  \n",
       "0       Dwayne Bravo               3--20  \n",
       "1      Kuldeep Yadav               3--18  \n",
       "2     Mohammed Siraj               2--59  \n",
       "3     Mohammed Shami               3--25  \n",
       "4   Yuzvendra Chahal               3--22  \n",
       "..               ...                 ...  \n",
       "69     Harpreet Brar               3--26  \n",
       "70     Hardik Pandya               1--14  \n",
       "71    Josh Hazlewood               3--43  \n",
       "72   Prasidh Krishna               3--22  \n",
       "73     Hardik Pandya               3--17  \n",
       "\n",
       "[74 rows x 20 columns]"
      ]
     },
     "execution_count": 16,
     "metadata": {},
     "output_type": "execute_result"
    }
   ],
   "source": [
    "df = pd.read_csv('ipl.csv')\n",
    "df"
   ]
  },
  {
   "cell_type": "markdown",
   "id": "9a4bcf16-eea1-4385-a169-fd2772cf1a1a",
   "metadata": {},
   "source": [
    "**BASIC INFORMATION**"
   ]
  },
  {
   "cell_type": "code",
   "execution_count": 17,
   "id": "18752dd9-9dd8-4d92-b004-4ab0bd80f7b7",
   "metadata": {},
   "outputs": [
    {
     "name": "stdout",
     "output_type": "stream",
     "text": [
      "<class 'pandas.core.frame.DataFrame'>\n",
      "RangeIndex: 74 entries, 0 to 73\n",
      "Data columns (total 20 columns):\n",
      " #   Column               Non-Null Count  Dtype \n",
      "---  ------               --------------  ----- \n",
      " 0   match_id             74 non-null     int64 \n",
      " 1   date                 74 non-null     object\n",
      " 2   venue                74 non-null     object\n",
      " 3   team1                74 non-null     object\n",
      " 4   team2                74 non-null     object\n",
      " 5   stage                74 non-null     object\n",
      " 6   toss_winner          74 non-null     object\n",
      " 7   toss_decision        74 non-null     object\n",
      " 8   first_ings_score     74 non-null     int64 \n",
      " 9   first_ings_wkts      74 non-null     int64 \n",
      " 10  second_ings_score    74 non-null     int64 \n",
      " 11  second_ings_wkts     74 non-null     int64 \n",
      " 12  match_winner         74 non-null     object\n",
      " 13  won_by               74 non-null     object\n",
      " 14  margin               74 non-null     int64 \n",
      " 15  player_of_the_match  74 non-null     object\n",
      " 16  top_scorer           74 non-null     object\n",
      " 17  highscore            74 non-null     int64 \n",
      " 18  best_bowling         74 non-null     object\n",
      " 19  best_bowling_figure  74 non-null     object\n",
      "dtypes: int64(7), object(13)\n",
      "memory usage: 11.7+ KB\n"
     ]
    }
   ],
   "source": [
    "df.info()"
   ]
  },
  {
   "cell_type": "markdown",
   "id": "31435cb0-e3f1-4cf5-ac42-cbda35040395",
   "metadata": {},
   "source": [
    "    Q1: checks the size of rows and columns of the dataset"
   ]
  },
  {
   "cell_type": "code",
   "execution_count": 19,
   "id": "9bd8951a-d337-410c-be8d-a7b91e255f60",
   "metadata": {},
   "outputs": [
    {
     "name": "stdout",
     "output_type": "stream",
     "text": [
      "your rows are 74 and your columns are 20\n"
     ]
    }
   ],
   "source": [
    "print(f\"your rows are {df.shape[0]} and your columns are {df.shape[1]}\")"
   ]
  },
  {
   "cell_type": "markdown",
   "id": "7d258242-0788-46dc-9347-1810c5c03a9e",
   "metadata": {},
   "source": [
    "    Q2: Now lets see how many columns have null values in total"
   ]
  },
  {
   "cell_type": "code",
   "execution_count": 64,
   "id": "d54d5559-73ae-4d93-8dc0-1a711e2c7020",
   "metadata": {},
   "outputs": [
    {
     "data": {
      "text/plain": [
       "match_id               0\n",
       "date                   0\n",
       "venue                  0\n",
       "team1                  0\n",
       "team2                  0\n",
       "stage                  0\n",
       "toss_winner            0\n",
       "toss_decision          0\n",
       "first_ings_score       0\n",
       "first_ings_wkts        0\n",
       "second_ings_score      0\n",
       "second_ings_wkts       0\n",
       "match_winner           0\n",
       "won_by                 0\n",
       "margin                 0\n",
       "player_of_the_match    0\n",
       "top_scorer             0\n",
       "highscore              0\n",
       "best_bowling           0\n",
       "best_bowling_figure    0\n",
       "highest_wickets        0\n",
       "dtype: int64"
      ]
     },
     "execution_count": 64,
     "metadata": {},
     "output_type": "execute_result"
    }
   ],
   "source": [
    "df.isnull().sum()"
   ]
  },
  {
   "cell_type": "markdown",
   "id": "15294238-c99f-4c33-9716-c0ae1a318d38",
   "metadata": {},
   "source": [
    "**Now, Here comes some Basic Questions**"
   ]
  },
  {
   "cell_type": "markdown",
   "id": "9f108a43-25ae-4db4-8d6e-9cbf0a52912b",
   "metadata": {},
   "source": [
    "    Q1: Which team won the most matches?"
   ]
  },
  {
   "cell_type": "code",
   "execution_count": 32,
   "id": "5e0d0456-a07e-4d62-9db7-827c41e32a90",
   "metadata": {},
   "outputs": [
    {
     "data": {
      "text/plain": [
       "match_winner\n",
       "Gujarat      12\n",
       "Rajasthan    10\n",
       "Banglore      9\n",
       "Lucknow       9\n",
       "Delhi         7\n",
       "Punjab        7\n",
       "Kolkata       6\n",
       "Hyderabad     6\n",
       "Chennai       4\n",
       "Mumbai        4\n",
       "Name: count, dtype: int64"
      ]
     },
     "execution_count": 32,
     "metadata": {},
     "output_type": "execute_result"
    }
   ],
   "source": [
    "match_wins"
   ]
  },
  {
   "cell_type": "code",
   "execution_count": 36,
   "id": "4d28be16-d39b-42b4-bacc-21abea5bb360",
   "metadata": {},
   "outputs": [
    {
     "data": {
      "text/plain": [
       "Text(0.5, 1.0, 'Most match win by team')"
      ]
     },
     "execution_count": 36,
     "metadata": {},
     "output_type": "execute_result"
    },
    {
     "data": {
      "image/png": "[encoded data removed]",
      "text/plain": [
       "<Figure size 640x480 with 1 Axes>"
      ]
     },
     "metadata": {},
     "output_type": "display_data"
    }
   ],
   "source": [
    "match_wins=df['match_winner'].value_counts()\n",
    "sns.barplot(y= match_wins.index,x=match_wins.values,palette='viridis')\n",
    "plt.title(\"Most match win by team\")"
   ]
  },
  {
   "cell_type": "markdown",
   "id": "8ff2205f-9d72-45ed-9f72-4a150ab59c79",
   "metadata": {},
   "source": [
    "    Q2: Toss Desision Trend"
   ]
  },
  {
   "cell_type": "code",
   "execution_count": 43,
   "id": "285cd239-11b2-4fb2-ba79-6df1485e616b",
   "metadata": {},
   "outputs": [
    {
     "data": {
      "text/plain": [
       "Text(0.5, 1.0, 'Toss decision Trends')"
      ]
     },
     "execution_count": 43,
     "metadata": {},
     "output_type": "execute_result"
    },
    {
     "data": {
      "image/png": "[encoded data removed]",
      "text/plain": [
       "<Figure size 640x480 with 1 Axes>"
      ]
     },
     "metadata": {},
     "output_type": "display_data"
    }
   ],
   "source": [
    "sns.countplot(x = df['toss_decision'],palette='rainbow')\n",
    "plt.title(\"Toss decision Trends\")"
   ]
  },
  {
   "cell_type": "code",
   "execution_count": null,
   "id": "2ceeff6c-2e08-4d95-9d04-469e3cb78c89",
   "metadata": {},
   "outputs": [],
   "source": []
  },
  {
   "cell_type": "markdown",
   "id": "3b172a5e-0964-4790-896f-92b531297a96",
   "metadata": {},
   "source": [
    "    Q3: Toss winner vs Match winner"
   ]
  },
  {
   "cell_type": "code",
   "execution_count": 44,
   "id": "71cb8699-f9d3-4287-85e7-ff03085a23dd",
   "metadata": {},
   "outputs": [
    {
     "data": {
      "text/plain": [
       "np.float64(48.65)"
      ]
     },
     "execution_count": 44,
     "metadata": {},
     "output_type": "execute_result"
    }
   ],
   "source": [
    "count = df[df['toss_winner'] == df['match_winner']]['match_id'].count()\n",
    "percentage = (count *100)/df.shape[0]\n",
    "percentage.round(2)"
   ]
  },
  {
   "cell_type": "markdown",
   "id": "c972752b-db23-4e3c-922e-090053b3ee81",
   "metadata": {},
   "source": [
    "    Q4: How do teams win? (Runs vs Wickets)"
   ]
  },
  {
   "cell_type": "code",
   "execution_count": 45,
   "id": "b78ae1e6-3b48-46f6-8d44-d12f8956456d",
   "metadata": {},
   "outputs": [
    {
     "data": {
      "text/plain": [
       "Text(0.5, 1.0, 'Won by')"
      ]
     },
     "execution_count": 45,
     "metadata": {},
     "output_type": "execute_result"
    },
    {
     "data": {
      "image/png": "[encoded data removed]",
      "text/plain": [
       "<Figure size 640x480 with 1 Axes>"
      ]
     },
     "metadata": {},
     "output_type": "display_data"
    }
   ],
   "source": [
    "sns.countplot(x = df['won_by'])\n",
    "plt.title(\"Won by\")\n"
   ]
  },
  {
   "cell_type": "code",
   "execution_count": null,
   "id": "da08553c-a9a7-4ca6-8ba2-331d26e8dd7d",
   "metadata": {},
   "outputs": [],
   "source": []
  },
  {
   "cell_type": "markdown",
   "id": "f46f53f4-589c-4bd5-8ed4-7bbe87e46013",
   "metadata": {},
   "source": [
    "**Key Player Performances**"
   ]
  },
  {
   "cell_type": "markdown",
   "id": "2b2f0f77-b95d-4307-97d2-1f074fbab99d",
   "metadata": {},
   "source": [
    "    Q1: Most \"Player of the Match\" Awards"
   ]
  },
  {
   "cell_type": "code",
   "execution_count": 52,
   "id": "0a258817-41a4-449d-a23a-33fd44854001",
   "metadata": {},
   "outputs": [
    {
     "data": {
      "text/plain": [
       "player_of_the_match\n",
       "Kuldeep Yadav      4\n",
       "Jos Buttler        3\n",
       "Umesh Yadav        2\n",
       "Quinton de Kock    2\n",
       "David Miller       2\n",
       "Umran Malik        2\n",
       "K L Rahul          2\n",
       "Rahul Tripathi     2\n",
       "Hardik Pandya      2\n",
       "Jasprit Bumrah     2\n",
       "Name: count, dtype: int64"
      ]
     },
     "execution_count": 52,
     "metadata": {},
     "output_type": "execute_result"
    }
   ],
   "source": [
    "count = df['player_of_the_match'].value_counts().head(10)\n",
    "count"
   ]
  },
  {
   "cell_type": "code",
   "execution_count": 49,
   "id": "14e6c2ea-c33c-4443-89b4-22e8e4fae817",
   "metadata": {},
   "outputs": [
    {
     "data": {
      "text/plain": [
       "Text(0.5, 1.0, 'Top 10 plauers with man of the match')"
      ]
     },
     "execution_count": 49,
     "metadata": {},
     "output_type": "execute_result"
    },
    {
     "data": {
      "image/png": "[encoded data removed]",
      "text/plain": [
       "<Figure size 640x480 with 1 Axes>"
      ]
     },
     "metadata": {},
     "output_type": "display_data"
    }
   ],
   "source": [
    "sns.barplot(x = count.values , y = count.index,palette='mako')\n",
    "plt.title(\"Top 10 plauers with man of the match\")"
   ]
  },
  {
   "cell_type": "markdown",
   "id": "8f3e6cfe-7f4e-4656-8c0e-1c1a4f98d028",
   "metadata": {},
   "source": [
    "    Q2: 2Top Scorers"
   ]
  },
  {
   "cell_type": "code",
   "execution_count": 50,
   "id": "0016f4b9-3313-4070-b37a-45bfa0ac005d",
   "metadata": {},
   "outputs": [
    {
     "data": {
      "text/plain": [
       "top_scorer\n",
       "Jos Buttler        651\n",
       "Quinton de Kock    377\n",
       "Name: highscore, dtype: int64"
      ]
     },
     "execution_count": 50,
     "metadata": {},
     "output_type": "execute_result"
    }
   ],
   "source": [
    "\n",
    "high = df.groupby('top_scorer')['highscore'].sum().sort_values(ascending=False).head(2)\n",
    "high"
   ]
  },
  {
   "cell_type": "code",
   "execution_count": 51,
   "id": "e29922e4-8885-46bc-9009-1b7fb60908cb",
   "metadata": {},
   "outputs": [
    {
     "data": {
      "text/plain": [
       "<Axes: ylabel='top_scorer'>"
      ]
     },
     "execution_count": 51,
     "metadata": {},
     "output_type": "execute_result"
    },
    {
     "data": {
      "image/png": "[encoded data removed]",
      "text/plain": [
       "<Figure size 640x480 with 1 Axes>"
      ]
     },
     "metadata": {},
     "output_type": "display_data"
    }
   ],
   "source": [
    "high.plot(kind = 'barh')"
   ]
  },
  {
   "cell_type": "markdown",
   "id": "fd33a06c-a8af-4660-8c6c-cc7805d80aa5",
   "metadata": {},
   "source": [
    "    Q3: 10 Best Bowlling "
   ]
  },
  {
   "cell_type": "code",
   "execution_count": 54,
   "id": "4f4f948b-476f-4df9-8bb7-94c94ff7acb5",
   "metadata": {},
   "outputs": [
    {
     "data": {
      "text/plain": [
       "<Axes: ylabel='best_bowling'>"
      ]
     },
     "execution_count": 54,
     "metadata": {},
     "output_type": "execute_result"
    },
    {
     "data": {
      "image/png": "[encoded data removed]",
      "text/plain": [
       "<Figure size 640x480 with 1 Axes>"
      ]
     },
     "metadata": {},
     "output_type": "display_data"
    }
   ],
   "source": [
    "df['highest_wickets'] = df['best_bowling_figure'].apply(lambda x :x.split('--')[0])\n",
    "df['highest_wickets'] = df['highest_wickets'].astype(int)\n",
    "top_bowlers = df.groupby('best_bowling')['highest_wickets'].sum().sort_values(ascending=False).head(10)\n",
    "top_bowlers.plot(kind = 'barh')"
   ]
  },
  {
   "cell_type": "code",
   "execution_count": null,
   "id": "767ee4d1-34d7-43bf-8967-7ffadf2f0919",
   "metadata": {},
   "outputs": [],
   "source": []
  },
  {
   "cell_type": "markdown",
   "id": "f0b19cb0-62aa-4294-895a-39e3a364eedc",
   "metadata": {},
   "source": [
    "**Venue Analysis**"
   ]
  },
  {
   "cell_type": "markdown",
   "id": "fe1930ab-27a8-47bd-928e-cd6b676947d2",
   "metadata": {},
   "source": [
    "Most Matches Played by Venue"
   ]
  },
  {
   "cell_type": "code",
   "execution_count": 56,
   "id": "7ead0723-b28e-409e-8bfa-59397dfd0dd5",
   "metadata": {},
   "outputs": [
    {
     "data": {
      "text/plain": [
       "venue\n",
       "Wankhede Stadium, Mumbai                        21\n",
       "Dr DY Patil Sports Academy, Mumbai              20\n",
       "Brabourne Stadium, Mumbai                       16\n",
       "Maharashtra Cricket Association Stadium,Pune    13\n",
       "Eden Gardens, Kolkata                            2\n",
       "Narendra Modi Stadium, Ahmedabad                 2\n",
       "Name: count, dtype: int64"
      ]
     },
     "execution_count": 56,
     "metadata": {},
     "output_type": "execute_result"
    }
   ],
   "source": [
    "venue_count = df['venue'].value_counts()\n",
    "venue_count"
   ]
  },
  {
   "cell_type": "code",
   "execution_count": 60,
   "id": "061544c2-4ef5-4957-b230-2cdb538d765d",
   "metadata": {},
   "outputs": [
    {
     "data": {
      "text/plain": [
       "<Axes: ylabel='venue'>"
      ]
     },
     "execution_count": 60,
     "metadata": {},
     "output_type": "execute_result"
    },
    {
     "data": {
      "image/png": "[encoded data removed]",
      "text/plain": [
       "<Figure size 640x480 with 1 Axes>"
      ]
     },
     "metadata": {},
     "output_type": "display_data"
    }
   ],
   "source": [
    "sns.barplot(y = venue_count.index,x = venue_count.values,palette='rainbow')"
   ]
  },
  {
   "cell_type": "code",
   "execution_count": null,
   "id": "b2e4e6bc-1a03-4ff1-810c-51f43286e1f7",
   "metadata": {},
   "outputs": [],
   "source": []
  },
  {
   "cell_type": "markdown",
   "id": "027ddd3a-d0f6-47f8-b77e-2b4093263c45",
   "metadata": {},
   "source": [
    "**Custom Questions & Insights**"
   ]
  },
  {
   "cell_type": "markdown",
   "id": "62e0375f-4850-4ba7-8544-5e4f03b56075",
   "metadata": {},
   "source": [
    "    Q1: Who won the highest margin by runs?"
   ]
  },
  {
   "cell_type": "code",
   "execution_count": 61,
   "id": "b1a25f8a-4dc2-44c7-9e9c-67ab557bfa72",
   "metadata": {},
   "outputs": [
    {
     "data": {
      "text/html": [
       "<div>\n",
       "<style scoped>\n",
       "    .dataframe tbody tr th:only-of-type {\n",
       "        vertical-align: middle;\n",
       "    }\n",
       "\n",
       "    .dataframe tbody tr th {\n",
       "        vertical-align: top;\n",
       "    }\n",
       "\n",
       "    .dataframe thead th {\n",
       "        text-align: right;\n",
       "    }\n",
       "</style>\n",
       "<table border=\"1\" class=\"dataframe\">\n",
       "  <thead>\n",
       "    <tr style=\"text-align: right;\">\n",
       "      <th></th>\n",
       "      <th>match_winner</th>\n",
       "      <th>margin</th>\n",
       "    </tr>\n",
       "  </thead>\n",
       "  <tbody>\n",
       "    <tr>\n",
       "      <th>54</th>\n",
       "      <td>Chennai</td>\n",
       "      <td>91</td>\n",
       "    </tr>\n",
       "  </tbody>\n",
       "</table>\n",
       "</div>"
      ],
      "text/plain": [
       "   match_winner  margin\n",
       "54      Chennai      91"
      ]
     },
     "execution_count": 61,
     "metadata": {},
     "output_type": "execute_result"
    }
   ],
   "source": [
    "df[df['won_by'] == 'Runs'].sort_values(by = 'margin',ascending=False).head(1)[['match_winner','margin']]"
   ]
  },
  {
   "cell_type": "markdown",
   "id": "b64ee600-40d1-471e-8231-421e04729d96",
   "metadata": {},
   "source": [
    "    Q2: Which player had the highest individual score?"
   ]
  },
  {
   "cell_type": "code",
   "execution_count": 62,
   "id": "589b553b-bc50-4840-a305-caf5982e2842",
   "metadata": {},
   "outputs": [
    {
     "data": {
      "text/html": [
       "<div>\n",
       "<style scoped>\n",
       "    .dataframe tbody tr th:only-of-type {\n",
       "        vertical-align: middle;\n",
       "    }\n",
       "\n",
       "    .dataframe tbody tr th {\n",
       "        vertical-align: top;\n",
       "    }\n",
       "\n",
       "    .dataframe thead th {\n",
       "        text-align: right;\n",
       "    }\n",
       "</style>\n",
       "<table border=\"1\" class=\"dataframe\">\n",
       "  <thead>\n",
       "    <tr style=\"text-align: right;\">\n",
       "      <th></th>\n",
       "      <th>top_scorer</th>\n",
       "      <th>highscore</th>\n",
       "    </tr>\n",
       "  </thead>\n",
       "  <tbody>\n",
       "    <tr>\n",
       "      <th>65</th>\n",
       "      <td>Quinton de Kock</td>\n",
       "      <td>140</td>\n",
       "    </tr>\n",
       "  </tbody>\n",
       "</table>\n",
       "</div>"
      ],
      "text/plain": [
       "         top_scorer  highscore\n",
       "65  Quinton de Kock        140"
      ]
     },
     "execution_count": 62,
     "metadata": {},
     "output_type": "execute_result"
    }
   ],
   "source": [
    "df[df['highscore'] == df['highscore'].max()][['top_scorer','highscore']]"
   ]
  },
  {
   "cell_type": "markdown",
   "id": "6fc1f5cc-d637-4fa3-88f2-e9bba8961f2e",
   "metadata": {},
   "source": [
    "     Q3: Which bowler had the best bowling figures?"
   ]
  },
  {
   "cell_type": "code",
   "execution_count": 63,
   "id": "1b7db45a-6318-45e7-b76b-5a4903b3ede0",
   "metadata": {},
   "outputs": [
    {
     "data": {
      "text/html": [
       "<div>\n",
       "<style scoped>\n",
       "    .dataframe tbody tr th:only-of-type {\n",
       "        vertical-align: middle;\n",
       "    }\n",
       "\n",
       "    .dataframe tbody tr th {\n",
       "        vertical-align: top;\n",
       "    }\n",
       "\n",
       "    .dataframe thead th {\n",
       "        text-align: right;\n",
       "    }\n",
       "</style>\n",
       "<table border=\"1\" class=\"dataframe\">\n",
       "  <thead>\n",
       "    <tr style=\"text-align: right;\">\n",
       "      <th></th>\n",
       "      <th>best_bowling</th>\n",
       "      <th>best_bowling_figure</th>\n",
       "    </tr>\n",
       "  </thead>\n",
       "  <tbody>\n",
       "    <tr>\n",
       "      <th>29</th>\n",
       "      <td>Yuzvendra Chahal</td>\n",
       "      <td>5--40</td>\n",
       "    </tr>\n",
       "    <tr>\n",
       "      <th>39</th>\n",
       "      <td>Umran Malik</td>\n",
       "      <td>5--25</td>\n",
       "    </tr>\n",
       "    <tr>\n",
       "      <th>53</th>\n",
       "      <td>Wanindu Hasaranga</td>\n",
       "      <td>5--18</td>\n",
       "    </tr>\n",
       "    <tr>\n",
       "      <th>55</th>\n",
       "      <td>Jasprit Bumrah</td>\n",
       "      <td>5--10</td>\n",
       "    </tr>\n",
       "  </tbody>\n",
       "</table>\n",
       "</div>"
      ],
      "text/plain": [
       "         best_bowling best_bowling_figure\n",
       "29   Yuzvendra Chahal               5--40\n",
       "39        Umran Malik               5--25\n",
       "53  Wanindu Hasaranga               5--18\n",
       "55     Jasprit Bumrah               5--10"
      ]
     },
     "execution_count": 63,
     "metadata": {},
     "output_type": "execute_result"
    }
   ],
   "source": [
    "df[df['highest_wickets'] == df['highest_wickets'].max()][['best_bowling','best_bowling_figure']]"
   ]
  },
  {
   "cell_type": "code",
   "execution_count": null,
   "id": "764ab6ec-bde8-4055-807d-e9597d9a3de0",
   "metadata": {},
   "outputs": [],
   "source": []
  }
 ],
 "metadata": {
  "kernelspec": {
   "display_name": "Python [conda env:base] *",
   "language": "python",
   "name": "conda-base-py"
  },
  "language_info": {
   "codemirror_mode": {
    "name": "ipython",
    "version": 3
   },
   "file_extension": ".py",
   "mimetype": "text/x-python",
   "name": "python",
   "nbconvert_exporter": "python",
   "pygments_lexer": "ipython3",
   "version": "3.13.5"
  }
 },
 "nbformat": 4,
 "nbformat_minor": 5
}
